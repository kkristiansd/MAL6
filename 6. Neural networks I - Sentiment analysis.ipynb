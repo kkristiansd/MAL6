{
 "cells": [
  {
   "cell_type": "markdown",
   "id": "5bc9be56",
   "metadata": {},
   "source": [
    "## Sentiment Analysis"
   ]
  },
  {
   "cell_type": "markdown",
   "id": "818b3b52",
   "metadata": {},
   "source": [
    "In this exercise we use the IMDb-dataset, which we will use to perform a sentiment analysis. The code below assumes that the data is placed in the same folder as this notebook. We see that the reviews are loaded as a pandas dataframe, and print the beginning of the first few reviews."
   ]
  },
  {
   "cell_type": "code",
   "execution_count": 13,
   "id": "67da3bc0",
   "metadata": {},
   "outputs": [
    {
     "name": "stdout",
     "output_type": "stream",
     "text": [
      "<class 'pandas.core.frame.DataFrame'>\n",
      "                                                   0\n",
      "0  bromwell high is a cartoon comedy . it ran at ...\n",
      "1  story of a man who has unnatural feelings for ...\n",
      "2  homelessness  or houselessness as george carli...\n",
      "3  airport    starts as a brand new luxury    pla...\n",
      "4  brilliant over  acting by lesley ann warren . ...\n"
     ]
    }
   ],
   "source": [
    "import numpy as np\n",
    "import pandas as pd\n",
    "\n",
    "reviews = pd.read_csv('reviews.txt', header=None)\n",
    "labels = pd.read_csv('labels.txt', header=None)\n",
    "Y = (labels=='positive').astype(np.int_)\n",
    "\n",
    "print(type(reviews))\n",
    "print(reviews.head())"
   ]
  },
  {
   "cell_type": "markdown",
   "id": "4982b946",
   "metadata": {},
   "source": [
    "**(a)** Split the reviews and labels in test, train and validation sets. The train and validation sets will be used to train your model and tune hyperparameters, the test set will be saved for testing. Use the `CountVectorizer` from `sklearn.feature_extraction.text` to create a Bag-of-Words representation of the reviews. Only use the 10,000 most frequent words (use the `max_features`-parameter of `CountVectorizer`)."
   ]
  },
  {
   "cell_type": "code",
   "execution_count": 14,
   "id": "dda05945",
   "metadata": {},
   "outputs": [
    {
     "name": "stdout",
     "output_type": "stream",
     "text": [
      "Training set shape: (15000, 10000)\n",
      "Validation set shape: (5000, 10000)\n",
      "Test set shape: (5000, 10000)\n"
     ]
    }
   ],
   "source": [
    "from sklearn.model_selection import train_test_split\n",
    "from sklearn.feature_extraction.text import CountVectorizer\n",
    "import pandas as pd\n",
    "\n",
    "# Assuming `reviews` is a pandas DataFrame with the review text in the first column\n",
    "# Convert the first column of the DataFrame into a list (if it's a DataFrame with one column)\n",
    "reviews = reviews.iloc[:, 0].tolist()  # Convert the review column to a list\n",
    "\n",
    "# Assuming `labels` is already a list, Series, or an array\n",
    "# Ensure labels is in the same format (list or Series) with the same length as `reviews`\n",
    "\n",
    "# For example:\n",
    "# labels = [0, 1, 0, 1, 0, ...] # Your sentiment labels corresponding to reviews\n",
    "\n",
    "# Split data into train, validation, and test sets (60% train, 20% validation, 20% test)\n",
    "X_train, X_temp, y_train, y_temp = train_test_split(reviews, labels, test_size=0.4, random_state=42)\n",
    "X_val, X_test, y_val, y_test = train_test_split(X_temp, y_temp, test_size=0.5, random_state=42)\n",
    "\n",
    "# Initialize CountVectorizer with max_features set to 10,000\n",
    "vectorizer = CountVectorizer(max_features=10000)\n",
    "\n",
    "# Fit the vectorizer to the training data and transform the reviews into Bag-of-Words representations\n",
    "X_train_bow = vectorizer.fit_transform(X_train)\n",
    "X_val_bow = vectorizer.transform(X_val)\n",
    "X_test_bow = vectorizer.transform(X_test)\n",
    "\n",
    "# Output the shape of the transformed datasets to confirm the size\n",
    "print(f\"Training set shape: {X_train_bow.shape}\")\n",
    "print(f\"Validation set shape: {X_val_bow.shape}\")\n",
    "print(f\"Test set shape: {X_test_bow.shape}\")\n"
   ]
  },
  {
   "cell_type": "markdown",
   "id": "ebf07ee9",
   "metadata": {},
   "source": [
    "**(b)** Explore the representation of the reviews. How is a single word represented? How about a whole review?"
   ]
  },
  {
   "cell_type": "code",
   "execution_count": null,
   "id": "7cd6f990",
   "metadata": {},
   "outputs": [
    {
     "name": "stdout",
     "output_type": "stream",
     "text": [
      "Vocabulary: ['bad' 'great' 'is' 'loved' 'movie' 'the' 'this' 'was']\n",
      "Bag-of-Words representation of the reviews:\n",
      "[[0 1 1 0 1 0 1 0]\n",
      " [0 0 0 1 1 1 0 0]\n",
      " [1 0 0 0 1 0 1 1]]\n"
     ]
    }
   ],
   "source": [
    "import pandas as pd\n",
    "from sklearn.model_selection import train_test_split\n",
    "from sklearn.feature_extraction.text import CountVectorizer\n",
    "\n",
    "# Load your dataset into a pandas DataFrame (replace with your actual file path)\n",
    "# For example, assume 'reviews' column contains the text reviews and 'labels' column contains the sentiment labels.\n",
    "df = pd.read_csv(\"reviews.txt\")  # Modify this with your actual data file\n",
    "\n",
    "# If the dataset is a pandas DataFrame, ensure you're accessing the correct columns:\n",
    "reviews = df['reviews']  # Assuming reviews are in this column\n",
    "\n",
    "# Step 2: Split your data into train, validation, and test sets\n",
    "X_train, X_temp, y_train, y_temp = train_test_split(reviews, labels, test_size=0.4, random_state=42)\n",
    "X_val, X_test, y_val, y_test = train_test_split(X_temp, y_temp, test_size=0.5, random_state=42)\n",
    "\n",
    "# Check the shapes of the datasets\n",
    "print(f\"Training set shape: {X_train.shape}, Validation set shape: {X_val.shape}, Test set shape: {X_test.shape}\")\n"
   ]
  },
  {
   "cell_type": "markdown",
   "id": "c2638fce",
   "metadata": {},
   "source": [
    "**(c)** Train a neural network with a single hidden layer on the dataset, tuning the relevant hyperparameters to optimize accuracy. "
   ]
  },
  {
   "cell_type": "markdown",
   "id": "1fd327a6",
   "metadata": {},
   "source": [
    "**(d)** Test your sentiment-classifier on the test set."
   ]
  },
  {
   "cell_type": "markdown",
   "id": "fd44ee62",
   "metadata": {},
   "source": [
    "**(e)** Use the classifier to classify a few sentences you write yourselves. "
   ]
  },
  {
   "cell_type": "code",
   "execution_count": null,
   "id": "a1ef2970",
   "metadata": {},
   "outputs": [],
   "source": []
  }
 ],
 "metadata": {
  "kernelspec": {
   "display_name": "Python 3",
   "language": "python",
   "name": "python3"
  },
  "language_info": {
   "codemirror_mode": {
    "name": "ipython",
    "version": 3
   },
   "file_extension": ".py",
   "mimetype": "text/x-python",
   "name": "python",
   "nbconvert_exporter": "python",
   "pygments_lexer": "ipython3",
   "version": "3.12.0"
  }
 },
 "nbformat": 4,
 "nbformat_minor": 5
}
